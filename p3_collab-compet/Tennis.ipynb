{
 "cells": [
  {
   "cell_type": "markdown",
   "metadata": {},
   "source": [
    "# Collaboration and Competition\n",
    "\n",
    "---\n",
    "\n",
    "In this notebook, you will learn how to use the Unity ML-Agents environment for the third project of the [Deep Reinforcement Learning Nanodegree](https://www.udacity.com/course/deep-reinforcement-learning-nanodegree--nd893) program.\n",
    "\n",
    "### 1. Start the Environment\n",
    "\n",
    "We begin by importing the necessary packages.  If the code cell below returns an error, please revisit the project instructions to double-check that you have installed [Unity ML-Agents](https://github.com/Unity-Technologies/ml-agents/blob/master/docs/Installation.md) and [NumPy](http://www.numpy.org/)."
   ]
  },
  {
   "cell_type": "code",
   "execution_count": 1,
   "metadata": {},
   "outputs": [],
   "source": [
    "from unityagents import UnityEnvironment\n",
    "import numpy as np\n",
    "from collections import deque"
   ]
  },
  {
   "cell_type": "markdown",
   "metadata": {},
   "source": [
    "Next, we will start the environment!  **_Before running the code cell below_**, change the `file_name` parameter to match the location of the Unity environment that you downloaded.\n",
    "\n",
    "- **Mac**: `\"path/to/Tennis.app\"`\n",
    "- **Windows** (x86): `\"path/to/Tennis_Windows_x86/Tennis.exe\"`\n",
    "- **Windows** (x86_64): `\"path/to/Tennis_Windows_x86_64/Tennis.exe\"`\n",
    "- **Linux** (x86): `\"path/to/Tennis_Linux/Tennis.x86\"`\n",
    "- **Linux** (x86_64): `\"path/to/Tennis_Linux/Tennis.x86_64\"`\n",
    "- **Linux** (x86, headless): `\"path/to/Tennis_Linux_NoVis/Tennis.x86\"`\n",
    "- **Linux** (x86_64, headless): `\"path/to/Tennis_Linux_NoVis/Tennis.x86_64\"`\n",
    "\n",
    "For instance, if you are using a Mac, then you downloaded `Tennis.app`.  If this file is in the same folder as the notebook, then the line below should appear as follows:\n",
    "```\n",
    "env = UnityEnvironment(file_name=\"Tennis.app\")\n",
    "```"
   ]
  },
  {
   "cell_type": "code",
   "execution_count": 2,
   "metadata": {},
   "outputs": [
    {
     "name": "stderr",
     "output_type": "stream",
     "text": [
      "INFO:unityagents:\n",
      "'Academy' started successfully!\n",
      "Unity Academy name: Academy\n",
      "        Number of Brains: 1\n",
      "        Number of External Brains : 1\n",
      "        Lesson number : 0\n",
      "        Reset Parameters :\n",
      "\t\t\n",
      "Unity brain name: TennisBrain\n",
      "        Number of Visual Observations (per agent): 0\n",
      "        Vector Observation space type: continuous\n",
      "        Vector Observation space size (per agent): 8\n",
      "        Number of stacked Vector Observation: 3\n",
      "        Vector Action space type: continuous\n",
      "        Vector Action space size (per agent): 2\n",
      "        Vector Action descriptions: , \n"
     ]
    }
   ],
   "source": [
    "env = UnityEnvironment(file_name=\"./Tennis_Linux/Tennis.x86_64\")"
   ]
  },
  {
   "cell_type": "markdown",
   "metadata": {},
   "source": [
    "Environments contain **_brains_** which are responsible for deciding the actions of their associated agents. Here we check for the first brain available, and set it as the default brain we will be controlling from Python."
   ]
  },
  {
   "cell_type": "code",
   "execution_count": 3,
   "metadata": {},
   "outputs": [],
   "source": [
    "# get the default brain\n",
    "brain_name = env.brain_names[0]\n",
    "brain = env.brains[brain_name]"
   ]
  },
  {
   "cell_type": "markdown",
   "metadata": {},
   "source": [
    "### 2. Examine the State and Action Spaces\n",
    "\n",
    "In this environment, two agents control rackets to bounce a ball over a net. If an agent hits the ball over the net, it receives a reward of +0.1.  If an agent lets a ball hit the ground or hits the ball out of bounds, it receives a reward of -0.01.  Thus, the goal of each agent is to keep the ball in play.\n",
    "\n",
    "The observation space consists of 8 variables corresponding to the position and velocity of the ball and racket. Two continuous actions are available, corresponding to movement toward (or away from) the net, and jumping. \n",
    "\n",
    "Run the code cell below to print some information about the environment."
   ]
  },
  {
   "cell_type": "code",
   "execution_count": 4,
   "metadata": {},
   "outputs": [],
   "source": [
    "# # reset the environment\n",
    "# env_info = env.reset(train_mode=True)[brain_name]\n",
    "\n",
    "# # number of agents \n",
    "# num_agents = len(env_info.agents)\n",
    "# print('Number of agents:', num_agents)\n",
    "\n",
    "# # size of each action\n",
    "# action_size = brain.vector_action_space_size\n",
    "# print('Size of each action:', action_size)\n",
    "\n",
    "# # examine the state space \n",
    "# states = env_info.vector_observations\n",
    "# state_size = states.shape[1]\n",
    "# print('There are {} agents. Each observes a state with length: {}'.format(states.shape[0], state_size))\n",
    "# print('The state for the first agent looks like:', states[0])"
   ]
  },
  {
   "cell_type": "markdown",
   "metadata": {},
   "source": [
    "### 3. Take Random Actions in the Environment\n",
    "\n",
    "In the next code cell, you will learn how to use the Python API to control the agents and receive feedback from the environment.\n",
    "\n",
    "Once this cell is executed, you will watch the agents' performance, if they select actions at random with each time step.  A window should pop up that allows you to observe the agents.\n",
    "\n",
    "Of course, as part of the project, you'll have to change the code so that the agents are able to use their experiences to gradually choose better actions when interacting with the environment!"
   ]
  },
  {
   "cell_type": "markdown",
   "metadata": {},
   "source": [
    "### 4. It's Your Turn!\n",
    "\n",
    "Now it's your turn to train your own agent to solve the environment!  When training the environment, set `train_mode=True`, so that the line for resetting the environment looks like the following:\n",
    "```python\n",
    "env_info = env.reset(train_mode=True)[brain_name]\n",
    "```"
   ]
  },
  {
   "cell_type": "code",
   "execution_count": 5,
   "metadata": {},
   "outputs": [],
   "source": [
    "# from unityagents import UnityEnvironment\n",
    "# import numpy as np\n",
    "\n",
    "# env = UnityEnvironment(file_name=\"./Tennis_Linux/Tennis.x86_64\", no_graphics=False)\n",
    "# # get the default brain\n",
    "# brain_name = env.brain_names[0]\n",
    "# brain = env.brains[brain_name]"
   ]
  },
  {
   "cell_type": "code",
   "execution_count": 6,
   "metadata": {},
   "outputs": [],
   "source": [
    "def env_extractor_state(env_info):\n",
    "    states = env_info.vector_observations\n",
    "    states = np.expand_dims(states, axis=0)\n",
    "    return states\n",
    "\n",
    "\n",
    "def env_extractor_reward(env_info):\n",
    "    rewards = env_info.rewards\n",
    "    rewards = np.array(rewards)\n",
    "    rewards = np.expand_dims(rewards, axis=0)\n",
    "    return rewards \n",
    "\n",
    "\n",
    "def env_extractor_done(env_info):\n",
    "    dones = env_info.local_done\n",
    "    dones = np.array(dones)\n",
    "    dones = np.expand_dims(dones, axis=0)\n",
    "    return dones\n",
    "\n",
    "\n",
    "def env_extractor_global_state(env_info):\n",
    "    agent_states = env_extractor_state(env_info)\n",
    "    concat_states = agent_states.reshape(-1, )\n",
    "    return np.expand_dims(concat_states, axis=0)\n",
    "    \n",
    "\n",
    "def evn_extractor(env_info):\n",
    "    obs = env_extractor_state(env_info)        # get next state (for each agent)\n",
    "    obs_full = env_extractor_global_state(env_info)\n",
    "    rewards = env_extractor_reward(env_info)      # get reward (for each agent)\n",
    "    dones = env_extractor_done(env_info)\n",
    "    return obs, obs_full, rewards, dones\n",
    "\n",
    "\n",
    "def actor_to_simulator(actions):\n",
    "    actions_for_env = torch.stack(actions).detach().numpy().reshape(number_of_agents, -1)\n",
    "    actions_for_env = np.clip(actions_for_env, -1, 1)\n",
    "    return actions_for_env\n",
    "\n",
    "\n",
    "def actor_to_buffer(actions):\n",
    "    actions_for_buffer = np.rollaxis(torch.stack(actions).detach().numpy(), 1)\n",
    "    actions_for_buffer = np.clip(actions_for_buffer, -1, 1)\n",
    "    return actions_for_buffer\n",
    "\n",
    "\n",
    "def training_condition(buffer, episode, episode_per_update, number_of_episode_before_training):\n",
    "    condition = list()\n",
    "    condition.append(len(buffer) >= batchsize)\n",
    "    condition.append(episode % episode_per_update == 0)\n",
    "    condition.append(episode >= number_of_episode_before_training)\n",
    "    if all(condition):\n",
    "        return True\n",
    "    return False"
   ]
  },
  {
   "cell_type": "code",
   "execution_count": 7,
   "metadata": {},
   "outputs": [],
   "source": [
    "from buffer import ReplayBuffer\n",
    "from maddpg import MADDPG\n",
    "import torch\n",
    "import numpy as np\n",
    "from tensorboardX import SummaryWriter\n",
    "import os\n",
    "from utilities import transpose_list, transpose_to_tensor\n",
    "import imageio\n",
    "\n",
    "def seeding(seed=1):\n",
    "    np.random.seed(seed)\n",
    "    torch.manual_seed(seed)\n",
    "\n",
    "\n",
    "!sh ./clean.sh\n",
    "seeding()\n",
    "# number of training episodes.\n",
    "scenario = {'regular' : [2500, 1000, 128*2, 100, 3, int(1e6)], 'test' : [1, 3, 3, 0, 1, 3]}\n",
    "scenario_type = 'regular'\n",
    "\n",
    "number_of_episodes = scenario[scenario_type][0]\n",
    "episode_length = scenario[scenario_type][1]\n",
    "batchsize = scenario[scenario_type][2]\n",
    "number_of_episode_before_training = scenario[scenario_type][3]\n",
    "number_of_learning_per_episode = scenario[scenario_type][4]\n",
    "buffer = ReplayBuffer(scenario[scenario_type][5])\n",
    "\n",
    "episode_per_update = 1 \n",
    "parallel_envs = 1\n",
    "number_of_agents = 2\n",
    "action_size = 2\n",
    "noise = 1\n",
    "noise_reduction = 0.99995\n",
    "\n",
    "maddpg = MADDPG(number_of_agents, action_size)\n",
    "scores_deque = deque(maxlen=100) \n",
    "scores_list = list()\n",
    "score_trailing_100 = list()"
   ]
  },
  {
   "cell_type": "code",
   "execution_count": null,
   "metadata": {},
   "outputs": [
    {
     "name": "stdout",
     "output_type": "stream",
     "text": [
      "Episode 0 \t Episode Max Reward 0.000 \t  Average Trailing Max Score: 0.000 noise_factor 0.9992502624431336\n",
      "Episode 50 \t Episode Max Reward 0.000 \t  Average Trailing Max Score: 0.006 noise_factor 0.9618459535993721\n",
      "Episode 100 \t Episode Max Reward 0.000 \t  Average Trailing Max Score: 0.012 noise_factor 0.9189237655008546\n",
      "Episode 150 \t Episode Max Reward 0.000 \t  Average Trailing Max Score: 0.010 noise_factor 0.886119889028471\n",
      "Episode 200 \t Episode Max Reward 0.000 \t  Average Trailing Max Score: 0.001 noise_factor 0.8551281718958781\n",
      "Episode 250 \t Episode Max Reward 0.000 \t  Average Trailing Max Score: 0.000 noise_factor 0.8245604498741738\n",
      "Episode 300 \t Episode Max Reward 0.000 \t  Average Trailing Max Score: 0.002 noise_factor 0.7945290337959804\n",
      "Episode 350 \t Episode Max Reward 0.000 \t  Average Trailing Max Score: 0.002 noise_factor 0.7668173529489116\n",
      "Episode 400 \t Episode Max Reward 0.000 \t  Average Trailing Max Score: 0.000 noise_factor 0.7400722034968003\n",
      "Episode 450 \t Episode Max Reward 0.000 \t  Average Trailing Max Score: 0.000 noise_factor 0.7142241616456733\n",
      "Episode 500 \t Episode Max Reward 0.000 \t  Average Trailing Max Score: 0.002 noise_factor 0.687970479060525\n",
      "Episode 550 \t Episode Max Reward 0.000 \t  Average Trailing Max Score: 0.002 noise_factor 0.6639753605223816\n",
      "Episode 600 \t Episode Max Reward 0.000 \t  Average Trailing Max Score: 0.000 noise_factor 0.6406889928468882\n",
      "Episode 650 \t Episode Max Reward 0.000 \t  Average Trailing Max Score: 0.000 noise_factor 0.6183738824636613\n",
      "Episode 700 \t Episode Max Reward 0.000 \t  Average Trailing Max Score: 0.000 noise_factor 0.596806162536392\n",
      "Episode 750 \t Episode Max Reward 0.000 \t  Average Trailing Max Score: 0.002 noise_factor 0.5750985678886041\n",
      "Episode 800 \t Episode Max Reward 0.000 \t  Average Trailing Max Score: 0.006 noise_factor 0.5529903043172909\n",
      "Episode 850 \t Episode Max Reward 0.000 \t  Average Trailing Max Score: 0.005 noise_factor 0.5332762384688354\n",
      "Episode 900 \t Episode Max Reward 0.000 \t  Average Trailing Max Score: 0.002 noise_factor 0.5142135524832298\n",
      "Episode 950 \t Episode Max Reward 0.000 \t  Average Trailing Max Score: 0.001 noise_factor 0.4962787492884698\n",
      "Episode 1000 \t Episode Max Reward 0.000 \t  Average Trailing Max Score: 0.001 noise_factor 0.4785864464284023\n",
      "Episode 1050 \t Episode Max Reward 0.000 \t  Average Trailing Max Score: 0.002 noise_factor 0.46154795033103474\n",
      "Episode 1100 \t Episode Max Reward 0.000 \t  Average Trailing Max Score: 0.001 noise_factor 0.4454500244514916\n",
      "Episode 1150 \t Episode Max Reward 0.000 \t  Average Trailing Max Score: 0.000 noise_factor 0.4299135640002691\n",
      "Episode 1200 \t Episode Max Reward 0.000 \t  Average Trailing Max Score: 0.000 noise_factor 0.41491898611746686\n",
      "Episode 1250 \t Episode Max Reward 0.000 \t  Average Trailing Max Score: 0.000 noise_factor 0.4004473909565658\n",
      "Episode 1300 \t Episode Max Reward 0.000 \t  Average Trailing Max Score: 0.000 noise_factor 0.3864805378622098\n",
      "Episode 1350 \t Episode Max Reward 0.000 \t  Average Trailing Max Score: 0.000 noise_factor 0.3730008223788477\n",
      "Episode 1400 \t Episode Max Reward 0.000 \t  Average Trailing Max Score: 0.000 noise_factor 0.3599912540612838\n",
      "Episode 1450 \t Episode Max Reward 0.000 \t  Average Trailing Max Score: 0.000 noise_factor 0.3474354350591501\n",
      "Episode 1500 \t Episode Max Reward 0.000 \t  Average Trailing Max Score: 0.000 noise_factor 0.33531753944830883\n",
      "Episode 1550 \t Episode Max Reward 0.000 \t  Average Trailing Max Score: 0.000 noise_factor 0.3236222932831424\n",
      "Episode 1600 \t Episode Max Reward 0.000 \t  Average Trailing Max Score: 0.000 noise_factor 0.312334955344575\n",
      "Episode 1650 \t Episode Max Reward 0.000 \t  Average Trailing Max Score: 0.000 noise_factor 0.3014412985595738\n",
      "Episode 1700 \t Episode Max Reward 0.000 \t  Average Trailing Max Score: 0.000 noise_factor 0.29092759206870017\n",
      "Episode 1750 \t Episode Max Reward 0.000 \t  Average Trailing Max Score: 0.000 noise_factor 0.2807805839191096\n",
      "Episode 1800 \t Episode Max Reward 0.000 \t  Average Trailing Max Score: 0.000 noise_factor 0.27098748436119224\n",
      "Episode 1850 \t Episode Max Reward 0.000 \t  Average Trailing Max Score: 0.001 noise_factor 0.26127453797037575\n",
      "Episode 1900 \t Episode Max Reward 0.000 \t  Average Trailing Max Score: 0.002 noise_factor 0.2517460384262427\n",
      "Episode 1950 \t Episode Max Reward 0.000 \t  Average Trailing Max Score: 0.001 noise_factor 0.24289272872605858\n",
      "Episode 2000 \t Episode Max Reward 0.000 \t  Average Trailing Max Score: 0.003 noise_factor 0.23376560908442268\n",
      "Episode 2050 \t Episode Max Reward 0.000 \t  Average Trailing Max Score: 0.005 noise_factor 0.22521781745336478\n",
      "Episode 2100 \t Episode Max Reward 0.090 \t  Average Trailing Max Score: 0.012 noise_factor 0.21529665874909576\n",
      "Episode 2150 \t Episode Max Reward 0.000 \t  Average Trailing Max Score: 0.014 noise_factor 0.20686489239398567\n",
      "Episode 2200 \t Episode Max Reward 0.000 \t  Average Trailing Max Score: 0.004 noise_factor 0.19964983336826708\n"
     ]
    }
   ],
   "source": [
    "for episode in range(0, number_of_episodes):\n",
    "    reward_this_episode = np.zeros((parallel_envs, number_of_agents))\n",
    "    env_info = env.reset(train_mode=True)[brain_name] \n",
    "    maddpg.reset() #reset the MADDPG_obj OU Noise\n",
    "    obs, obs_full, _, _ = evn_extractor(env_info)\n",
    "    for episode_t in range(episode_length):\n",
    "        actions = maddpg.act(transpose_to_tensor(obs), noise=noise) \n",
    "        noise *= noise_reduction\n",
    "        actions_for_env = actor_to_simulator(actions)\n",
    "        actions_for_buffer = actor_to_buffer(actions)  \n",
    "#         print(actions_for_env)\n",
    "        env_info = env.step(actions_for_env)[brain_name] \n",
    "        next_obs, next_obs_full, rewards, dones = evn_extractor(env_info)\n",
    "        transition = (obs, obs_full, actions_for_buffer, rewards, next_obs, next_obs_full, dones)\n",
    "        buffer.push(transition)\n",
    "        reward_this_episode += rewards\n",
    "        \n",
    "        if np.any(dones) or (episode_t == episode_length):\n",
    "            break\n",
    "\n",
    "        obs, obs_full = next_obs, next_obs_full\n",
    "\n",
    "    # update once after every episode_per_update\n",
    "    if training_condition(buffer, episode, episode_per_update, number_of_episode_before_training):\n",
    "        for _ in range(number_of_learning_per_episode): #learn multiple times at every step\n",
    "            for a_i in range(number_of_agents):\n",
    "                samples = buffer.sample(batchsize)\n",
    "                maddpg.update(samples, a_i)\n",
    "            maddpg.update_targets() #soft update the target network towards the actual networks\n",
    "\n",
    "\n",
    "    max_reward_episode = np.max(reward_this_episode)\n",
    "    scores_deque.append(max_reward_episode)\n",
    "    scores_list.append(max_reward_episode)\n",
    "    score_trailing_100.append(np.mean(scores_deque))\n",
    "    \n",
    "    if episode % 50 == 0:\n",
    "        print('\\rEpisode {} \\t Episode Max Reward {:.3f} \\t  Average Trailing Max Score: {:.3f} noise_factor {}'\\\n",
    "              .format(episode, max_reward_episode, np.mean(scores_deque), str(noise)))\n",
    "\n"
   ]
  },
  {
   "cell_type": "markdown",
   "metadata": {},
   "source": [
    "# Performance Chart"
   ]
  },
  {
   "cell_type": "code",
   "execution_count": null,
   "metadata": {},
   "outputs": [],
   "source": [
    "from matplotlib import pyplot as plt\n",
    "plt.plot(score_trailing_100)\n",
    "plt.xlabel(\"Episode\")\n",
    "plt.ylabel(\"Trailing Max Score of 100 Episodes\")\n",
    "plt.xlim(0, number_of_episodes)\n",
    "plt.ylim(0, max(score_trailing_100)*1.2)"
   ]
  },
  {
   "cell_type": "markdown",
   "metadata": {},
   "source": [
    "# Testing The Agents "
   ]
  },
  {
   "cell_type": "code",
   "execution_count": null,
   "metadata": {},
   "outputs": [],
   "source": [
    "# for i in range(1, 6):                                      # play game for 5 episodes\n",
    "#     env_info = env.reset(train_mode=False)[brain_name]     # reset the environment\n",
    "#     obs, obs_full, rewards, dones = evn_extractor(env_info)# get the current state (for each agent)\n",
    "#     scores = np.zeros(number_of_agents)                          # initialize the score (for each agent)\n",
    "#     while True:\n",
    "#         actions = maddpg.act(transpose_to_tensor(obs), noise=noise)\n",
    "#         actions_for_env = torch.stack(actions).detach().numpy().reshape(number_of_agents, -1)\n",
    "#         actions_for_env = np.clip(actions_for_env, -1, 1)\n",
    "#         env_info = env.step(actions_for_env)[brain_name]   # send all actions to tne environment\n",
    "#         obs, obs_full, rewards, dones = evn_extractor(env_info)   # get next state (for each agent)\n",
    "#         rewards = env_info.rewards                         # get reward (for each agent)\n",
    "#         dones = env_info.local_done                        # see if episode finished\n",
    "# #         print(dones, rewards)\n",
    "#         scores += env_info.rewards                         # update the score (for each agent)                             # roll over states to next time step\n",
    "#         if np.any(dones):                                  # exit loop if episode finished\n",
    "#             break\n",
    "#     print('Score (max over agents) from episode {}: {}'.format(i, np.max(scores)))"
   ]
  }
 ],
 "metadata": {
  "kernelspec": {
   "display_name": "Python 3",
   "language": "python",
   "name": "python3"
  },
  "language_info": {
   "codemirror_mode": {
    "name": "ipython",
    "version": 3
   },
   "file_extension": ".py",
   "mimetype": "text/x-python",
   "name": "python",
   "nbconvert_exporter": "python",
   "pygments_lexer": "ipython3",
   "version": "3.6.12"
  }
 },
 "nbformat": 4,
 "nbformat_minor": 2
}
